{
  "nbformat": 4,
  "nbformat_minor": 0,
  "metadata": {
    "colab": {
      "provenance": [],
      "authorship_tag": "ABX9TyPwSWvCFDOXuYE43NCGhnjl",
      "include_colab_link": true
    },
    "kernelspec": {
      "name": "python3",
      "display_name": "Python 3"
    },
    "language_info": {
      "name": "python"
    }
  },
  "cells": [
    {
      "cell_type": "markdown",
      "metadata": {
        "id": "view-in-github",
        "colab_type": "text"
      },
      "source": [
        "<a href=\"https://colab.research.google.com/github/Samarjeet09/MiniProjects/blob/main/Mini%20Project-15-Convert%20100%20images%20to%20Grey%20Scale%20(b/ConvertToGreyScale.ipynb\" target=\"_parent\"><img src=\"https://colab.research.google.com/assets/colab-badge.svg\" alt=\"Open In Colab\"/></a>"
      ]
    },
    {
      "cell_type": "markdown",
      "source": [
        "# Downloding the images"
      ],
      "metadata": {
        "id": "hoeHP_6csBXs"
      }
    },
    {
      "cell_type": "code",
      "execution_count": null,
      "metadata": {
        "id": "lHHA9jmirsGg"
      },
      "outputs": [],
      "source": [
        "!pip install simple_image_download &>/dev/null"
      ]
    },
    {
      "cell_type": "code",
      "source": [
        "from simple_image_download import simple_image_download as simp\n",
        "response = simp.simple_image_download"
      ],
      "metadata": {
        "id": "xfsHid1dr3ny"
      },
      "execution_count": null,
      "outputs": []
    },
    {
      "cell_type": "code",
      "source": [
        "response().download('computer',100)"
      ],
      "metadata": {
        "id": "l5DoE7sir6xA"
      },
      "execution_count": null,
      "outputs": []
    },
    {
      "cell_type": "markdown",
      "source": [
        "# Converting to Greyscale"
      ],
      "metadata": {
        "id": "IWw7HP4BsHbJ"
      }
    },
    {
      "cell_type": "code",
      "source": [
        "!pip install opencv-python &>/dev/null"
      ],
      "metadata": {
        "id": "oYRiWwVksW7K"
      },
      "execution_count": null,
      "outputs": []
    },
    {
      "cell_type": "code",
      "source": [
        "import cv2\n",
        "import os"
      ],
      "metadata": {
        "id": "TW3rReMysiKY"
      },
      "execution_count": null,
      "outputs": []
    },
    {
      "cell_type": "markdown",
      "source": [
        "### setting Image dir and output dir\n"
      ],
      "metadata": {
        "id": "3SHwMMZSslq6"
      }
    },
    {
      "cell_type": "code",
      "source": [
        "image_dir=\"/content/simple_images/computer\"\n",
        "output_dir = \"grayscale_images\"\n",
        "os.makedirs(output_dir, exist_ok=True)"
      ],
      "metadata": {
        "id": "S11v4TorsoA3"
      },
      "execution_count": null,
      "outputs": []
    },
    {
      "cell_type": "markdown",
      "source": [
        "### Looping through each image and converting to greyscale using cvtColor"
      ],
      "metadata": {
        "id": "6vo74FT1s41N"
      }
    },
    {
      "cell_type": "code",
      "source": [
        "for image_file in os.listdir(image_dir):\n",
        "    image_path = os.path.join(image_dir, image_file)\n",
        "    try:\n",
        "        image = cv2.imread(image_path)\n",
        "\n",
        "        if image is not None:\n",
        "            grayscale_image = cv2.cvtColor(image, cv2.COLOR_BGR2GRAY)\n",
        "            output_path = os.path.join(output_dir, image_file)\n",
        "            cv2.imwrite(output_path, grayscale_image)\n",
        "        else:\n",
        "            print(f\"Error reading image: {image_file}\")\n",
        "    except Exception as e:\n",
        "        print(f\"Error processing image: {image_file}\")\n"
      ],
      "metadata": {
        "colab": {
          "base_uri": "https://localhost:8080/"
        },
        "id": "lssLm6EttDFD",
        "outputId": "7f673524-c461-4aec-d4e2-00fbf877c7a9"
      },
      "execution_count": null,
      "outputs": [
        {
          "output_type": "stream",
          "name": "stdout",
          "text": [
            "Error reading image: computer_21.jpg\n",
            "Error reading image: computer_16.jpg\n"
          ]
        }
      ]
    }
  ]
}