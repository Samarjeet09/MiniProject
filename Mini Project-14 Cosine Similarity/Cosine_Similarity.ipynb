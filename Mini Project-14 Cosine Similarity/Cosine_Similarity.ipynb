{
  "nbformat": 4,
  "nbformat_minor": 0,
  "metadata": {
    "colab": {
      "provenance": [],
      "authorship_tag": "ABX9TyPQ56QBX2EscVPelBbrNvlY",
      "include_colab_link": true
    },
    "kernelspec": {
      "name": "python3",
      "display_name": "Python 3"
    },
    "language_info": {
      "name": "python"
    }
  },
  "cells": [
    {
      "cell_type": "markdown",
      "metadata": {
        "id": "view-in-github",
        "colab_type": "text"
      },
      "source": [
        "<a href=\"https://colab.research.google.com/github/Samarjeet09/MiniProjects/blob/main/Mini%20Project-14%3A%20Cosine%20Similarity/Cosine_Similarity.ipynb\" target=\"_parent\"><img src=\"https://colab.research.google.com/assets/colab-badge.svg\" alt=\"Open In Colab\"/></a>"
      ]
    },
    {
      "cell_type": "markdown",
      "source": [
        "# Cosine Similarity\n",
        "- **Cosine similarity** is a measure of similarity between two non-zero vectors of an inner product space that measures the cosine of the angle between them.\n",
        "**Similarity = (A.B) / (||A||.||B||)** where A and B are vectors.\n",
        "-   A.B is dot product of A and B: It is computed as sum of element-wise product of A and B.\n",
        "-   ||A|| is L2 norm of A: It is computed as square root of the sum of squares of elements of the vector A."
      ],
      "metadata": {
        "id": "xcC4DNMQFWoG"
      }
    },
    {
      "cell_type": "code",
      "source": [
        "import numpy as np\n",
        "import random as r\n",
        "from numpy.linalg import norm"
      ],
      "metadata": {
        "id": "V5EjZcwwFjgw"
      },
      "execution_count": 1,
      "outputs": []
    },
    {
      "cell_type": "code",
      "source": [
        "A = np.array([r.randint(0,9) for _ in range(15)])\n",
        "B = np.array([r.randint(0,9) for _ in range(15)])\n",
        "print(\"A:\", A)\n",
        "print(\"B:\", B)"
      ],
      "metadata": {
        "colab": {
          "base_uri": "https://localhost:8080/"
        },
        "id": "5EKgCmXOFkLz",
        "outputId": "fd79a6a3-3aa5-4083-c765-870df9da95c6"
      },
      "execution_count": 6,
      "outputs": [
        {
          "output_type": "stream",
          "name": "stdout",
          "text": [
            "A: [3 1 7 4 7 4 8 1 1 7 3 8 8 2 7]\n",
            "B: [0 5 8 2 9 2 7 4 9 1 8 9 9 6 7]\n"
          ]
        }
      ]
    },
    {
      "cell_type": "code",
      "source": [
        "# compute cosine similarity\n",
        "cosine = np.dot(A,B)/(norm(A)*norm(B))\n",
        "print(\"Cosine Similarity:\", cosine)"
      ],
      "metadata": {
        "colab": {
          "base_uri": "https://localhost:8080/"
        },
        "id": "TkWmms4rForj",
        "outputId": "88f805b7-e713-4550-f9da-a9b1b0c58876"
      },
      "execution_count": 7,
      "outputs": [
        {
          "output_type": "stream",
          "name": "stdout",
          "text": [
            "Cosine Similarity: 0.8364720763965733\n"
          ]
        }
      ]
    },
    {
      "cell_type": "markdown",
      "source": [
        "# For 2D array\n"
      ],
      "metadata": {
        "id": "_2I6Gf4zGc-N"
      }
    },
    {
      "cell_type": "code",
      "source": [
        "A = np.array([[ r.randint(0,9)for _ in range(5)] for _ in range(5)])\n",
        "B = np.array([[ r.randint(0,9)for _ in range(5)] for _ in range(5)])\n",
        "print(\"A:\", A)\n",
        "print(\"B:\", B)"
      ],
      "metadata": {
        "colab": {
          "base_uri": "https://localhost:8080/"
        },
        "id": "R6ns6ipPGXBd",
        "outputId": "68271e2c-c207-4e07-92d2-8fa2ae8f9f6b"
      },
      "execution_count": 22,
      "outputs": [
        {
          "output_type": "stream",
          "name": "stdout",
          "text": [
            "A: [[6 8 4 4 0]\n",
            " [5 4 0 2 8]\n",
            " [7 4 5 6 6]\n",
            " [4 4 0 1 0]\n",
            " [9 5 0 4 1]]\n",
            "B: [[3 6 0 6 5]\n",
            " [9 7 5 1 2]\n",
            " [0 8 0 3 7]\n",
            " [2 6 9 2 0]\n",
            " [8 2 2 0 9]]\n"
          ]
        }
      ]
    },
    {
      "cell_type": "code",
      "source": [
        "cosine = np.sum(A*B, axis=1)/(norm(A, axis=1)*norm(B, axis=1))\n",
        "print(\"Cosine Similarity:\\n\", cosine)"
      ],
      "metadata": {
        "colab": {
          "base_uri": "https://localhost:8080/"
        },
        "id": "s07p5yseGa6p",
        "outputId": "efae5d7a-5f58-4459-bc55-0a83485d93de"
      },
      "execution_count": 23,
      "outputs": [
        {
          "output_type": "stream",
          "name": "stdout",
          "text": [
            "Cosine Similarity:\n",
            " [0.76085625 0.68907763 0.65441072 0.52937928 0.66335059]\n"
          ]
        }
      ]
    },
    {
      "cell_type": "markdown",
      "source": [
        "# cosine similarity is Row Wise"
      ],
      "metadata": {
        "id": "HfUh_wjgHw--"
      }
    }
  ]
}