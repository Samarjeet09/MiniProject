{
  "nbformat": 4,
  "nbformat_minor": 0,
  "metadata": {
    "colab": {
      "provenance": [],
      "collapsed_sections": [
        "GnqWYKALs8GM"
      ],
      "authorship_tag": "ABX9TyNMw2thh8/f76lSONlCb8/6",
      "include_colab_link": true
    },
    "kernelspec": {
      "name": "python3",
      "display_name": "Python 3"
    },
    "language_info": {
      "name": "python"
    }
  },
  "cells": [
    {
      "cell_type": "markdown",
      "metadata": {
        "id": "view-in-github",
        "colab_type": "text"
      },
      "source": [
        "<a href=\"https://colab.research.google.com/github/Samarjeet09/MiniProjects/blob/main/Mini%20Project-10%3A%20Google%20Image%20Downloader/Google%20Image%20Downloader.ipynb\" target=\"_parent\"><img src=\"https://colab.research.google.com/assets/colab-badge.svg\" alt=\"Open In Colab\"/></a>"
      ]
    },
    {
      "cell_type": "markdown",
      "source": [
        "# WebScraping"
      ],
      "metadata": {
        "id": "Sq9rYYTostjt"
      }
    },
    {
      "cell_type": "markdown",
      "source": [
        "Step 0 can be skipped if not running code on collab"
      ],
      "metadata": {
        "id": "Rx0cCH4Uuu8p"
      }
    },
    {
      "cell_type": "markdown",
      "source": [
        "## Step-0. installing Selenium on Colab 🥲\n",
        "[ref](https://webdata360.com/blog/steps-to-install-selenium-in-google-colab/#Step%202:%20Install%20Chromium%20Browser%20and%20Driver%20in%20Google%20Colab)\n"
      ],
      "metadata": {
        "id": "GnqWYKALs8GM"
      }
    },
    {
      "cell_type": "code",
      "execution_count": null,
      "metadata": {
        "id": "1rrAeM5mxQj4"
      },
      "outputs": [],
      "source": [
        " !pip install selenium &> /dev/null"
      ]
    },
    {
      "cell_type": "code",
      "source": [
        "%%shell\n",
        "\n",
        "# Add debian buster\n",
        "#This section adds the Debian Buster repository to the sources.list.d file.\n",
        "cat > /etc/apt/sources.list.d/debian.list <<'EOF'\n",
        "\n",
        "deb [arch=amd64 signed-by=/usr/share/keyrings/debian-buster.gpg] http://deb.debian.org/debian buster main\n",
        "deb [arch=amd64 signed-by=/usr/share/keyrings/debian-buster-updates.gpg] http://deb.debian.org/debian buster-updates main\n",
        "deb [arch=amd64 signed-by=/usr/share/keyrings/debian-security-buster.gpg] http://deb.debian.org/debian-security buster/updates main\n",
        "EOF\n",
        "\n",
        "\n",
        "# Add keys\n",
        "# This section adds the necessary keys for the Debian Buster repository.\n",
        "\n",
        "apt-key adv --keyserver keyserver.ubuntu.com --recv-keys DCC9EFBF77E11517\n",
        "apt-key adv --keyserver keyserver.ubuntu.com --recv-keys 648ACFD622F3D138\n",
        "apt-key adv --keyserver keyserver.ubuntu.com --recv-keys 112695A0E562B32A\n",
        "\n",
        "apt-key export 77E11517 | gpg --dearmour -o /usr/share/keyrings/debian-buster.gpg\n",
        "apt-key export 22F3D138 | gpg --dearmour -o /usr/share/keyrings/debian-buster-updates.gpg\n",
        "apt-key export E562B32A | gpg --dearmour -o /usr/share/keyrings/debian-security-buster.gpg\n",
        "\n",
        "# Prefer debian repo for chromium* packages only\n",
        "# Note the double-blank lines between entries\n",
        "# This section sets the preferences for the Debian repository, specifically for chromium* packages.\n",
        "\n",
        "cat > /etc/apt/preferences.d/chromium.pref << 'EOF'\n",
        "Package: *\n",
        "Pin: release a=eoan\n",
        "Pin-Priority: 500\n",
        "\n",
        "\n",
        "Package: *\n",
        "Pin: origin \"deb.debian.org\"\n",
        "Pin-Priority: 300\n",
        "\n",
        "\n",
        "Package: chromium*\n",
        "Pin: origin \"deb.debian.org\"\n",
        "Pin-Priority: 700\n",
        "EOF\n"
      ],
      "metadata": {
        "id": "vsray4cXxlX5",
        "colab": {
          "base_uri": "https://localhost:8080/"
        },
        "outputId": "bdde946c-cd4a-4e36-e418-5113b41eab05"
      },
      "execution_count": null,
      "outputs": [
        {
          "output_type": "stream",
          "name": "stdout",
          "text": [
            "Executing: /tmp/apt-key-gpghome.YjF2HIH5qj/gpg.1.sh --keyserver keyserver.ubuntu.com --recv-keys DCC9EFBF77E11517\n",
            "gpg: key DCC9EFBF77E11517: public key \"Debian Stable Release Key (10/buster) <debian-release@lists.debian.org>\" imported\n",
            "gpg: Total number processed: 1\n",
            "gpg:               imported: 1\n",
            "Executing: /tmp/apt-key-gpghome.RF1AbLMuSz/gpg.1.sh --keyserver keyserver.ubuntu.com --recv-keys 648ACFD622F3D138\n",
            "gpg: key DC30D7C23CBBABEE: public key \"Debian Archive Automatic Signing Key (10/buster) <ftpmaster@debian.org>\" imported\n",
            "gpg: Total number processed: 1\n",
            "gpg:               imported: 1\n",
            "Executing: /tmp/apt-key-gpghome.eZ2YWTPJJh/gpg.1.sh --keyserver keyserver.ubuntu.com --recv-keys 112695A0E562B32A\n",
            "gpg: key 4DFAB270CAA96DFA: public key \"Debian Security Archive Automatic Signing Key (10/buster) <ftpmaster@debian.org>\" imported\n",
            "gpg: Total number processed: 1\n",
            "gpg:               imported: 1\n",
            "Warning: apt-key output should not be parsed (stdout is not a terminal)\n",
            "Warning: apt-key output should not be parsed (stdout is not a terminal)\n",
            "Warning: apt-key output should not be parsed (stdout is not a terminal)\n"
          ]
        },
        {
          "output_type": "execute_result",
          "data": {
            "text/plain": []
          },
          "metadata": {},
          "execution_count": 4
        }
      ]
    },
    {
      "cell_type": "code",
      "source": [
        "# Install chromium browser and driver\n",
        "# This section updates the package list and installs the chromium browser and chromium driver.\n",
        "!apt-get update &> /dev/null\n",
        "!apt-get install chromium chromium-driver &> /dev/null"
      ],
      "metadata": {
        "id": "wGaSJ1EmycfU"
      },
      "execution_count": null,
      "outputs": []
    },
    {
      "cell_type": "markdown",
      "source": [
        "## CODE"
      ],
      "metadata": {
        "id": "Sg_sZKj2tKby"
      }
    },
    {
      "cell_type": "code",
      "source": [
        "from selenium import webdriver\n",
        "from selenium.webdriver.common.by import By\n",
        "from selenium.webdriver import Keys\n",
        "import requests\n",
        "import time\n",
        "import os\n",
        "import bs4\n",
        "from tqdm import tqdm"
      ],
      "metadata": {
        "id": "lFPbKLNMywV6"
      },
      "execution_count": null,
      "outputs": []
    },
    {
      "cell_type": "markdown",
      "source": [
        "### We need to pass some extra args to run the webdriver in collab\n"
      ],
      "metadata": {
        "id": "p7_6qviNtRf6"
      }
    },
    {
      "cell_type": "code",
      "source": [
        "def web_driver():\n",
        "    options = webdriver.ChromeOptions()\n",
        "    # make sure the --verbose option is the first argument\n",
        "    options.add_argument(\"--verbose\")\n",
        "    options.add_argument('--no-sandbox')\n",
        "    # the chrome in linux only supports headless browser\n",
        "    options.add_argument('--headless')\n",
        "    options.add_argument('--disable-gpu')\n",
        "    options.add_argument('--disable-dev-shm-usage')\n",
        "\n",
        "    return webdriver.Chrome(options=options)"
      ],
      "metadata": {
        "id": "JxIJEY3zynIb"
      },
      "execution_count": null,
      "outputs": []
    },
    {
      "cell_type": "markdown",
      "source": [
        "If Not on Collab\n"
      ],
      "metadata": {
        "id": "jvuZ_Equu7Kx"
      }
    },
    {
      "cell_type": "code",
      "source": [
        "# driver = webdriver.Chrome()"
      ],
      "metadata": {
        "id": "dmNDFMXcu5v9"
      },
      "execution_count": null,
      "outputs": []
    },
    {
      "cell_type": "markdown",
      "source": [
        "### Making a folder for imgs"
      ],
      "metadata": {
        "id": "G3sZP4T-ta0n"
      }
    },
    {
      "cell_type": "code",
      "source": [
        "folder_name = 'images'\n",
        "if not os.path.isdir(folder_name):\n",
        "    os.makedirs(folder_name)"
      ],
      "metadata": {
        "id": "QDjwrnLQr2K2"
      },
      "execution_count": null,
      "outputs": []
    },
    {
      "cell_type": "markdown",
      "source": [
        "### Function to download the img"
      ],
      "metadata": {
        "id": "28EshMUZteHz"
      }
    },
    {
      "cell_type": "code",
      "source": [
        "def download_image(url, folder_name, num):\n",
        "\n",
        "    # write image to file\n",
        "    reponse = requests.get(url)\n",
        "    if reponse.status_code==200:\n",
        "        with open(os.path.join(folder_name, str(num)+\".png\"), 'wb') as file:\n",
        "            file.write(reponse.content)"
      ],
      "metadata": {
        "id": "ADk1m-IDr8ex"
      },
      "execution_count": null,
      "outputs": []
    },
    {
      "cell_type": "code",
      "source": [
        "driver = web_driver()\n",
        "query = input(\"Enter:\")\n",
        "# query = 'football'\n",
        "driver.get(f'https://www.google.com/search?q={query}&source=lnms&tbm=isch')"
      ],
      "metadata": {
        "colab": {
          "base_uri": "https://localhost:8080/"
        },
        "id": "FQNdwQtrysWq",
        "outputId": "24988df8-8c25-4651-e4e8-6c8e97a41296"
      },
      "execution_count": null,
      "outputs": [
        {
          "name": "stdout",
          "output_type": "stream",
          "text": [
            "Enter:cat\n"
          ]
        }
      ]
    },
    {
      "cell_type": "code",
      "source": [
        "html = driver.find_element(By.TAG_NAME, 'html')\n",
        "for i in range(6):\n",
        "    time.sleep(1)\n",
        "    html.send_keys(Keys.END)\n",
        "\n",
        "driver.execute_script(\"window.scrollTo(0, 0)\")"
      ],
      "metadata": {
        "id": "RBsXiDVTsI2x"
      },
      "execution_count": null,
      "outputs": []
    },
    {
      "cell_type": "code",
      "source": [
        "test = driver.find_elements(By.CSS_SELECTOR,'.rg_i.Q4LuWd')\n",
        "print(len(test))"
      ],
      "metadata": {
        "colab": {
          "base_uri": "https://localhost:8080/"
        },
        "id": "tHPDt5ISsNSB",
        "outputId": "0953c421-3c39-4e31-b6ad-387323fd4b0f"
      },
      "execution_count": null,
      "outputs": [
        {
          "output_type": "stream",
          "name": "stdout",
          "text": [
            "400\n"
          ]
        }
      ]
    },
    {
      "cell_type": "code",
      "source": [
        "requiredNo = int(input(\"No of imgs:\"))\n",
        "notclicked=[]\n",
        "n=0\n",
        "for i in test:\n",
        "    if n == requiredNo :\n",
        "        break\n",
        "    try:\n",
        "        i.click()\n",
        "        time.sleep(0.7)\n",
        "        # class name of img with actual source\n",
        "        newImg = driver.find_element(By.CLASS_NAME,'r48jcc.pT0Scc.iPVvYb')\n",
        "        link = newImg.get_attribute(\"src\")\n",
        "        try:\n",
        "            download_image(link,folder_name,n)\n",
        "            n+=1\n",
        "        except:\n",
        "            print(n,'error downloading')\n",
        "    except:\n",
        "        print('error clicking')\n",
        "        notclicked.append(i)\n",
        "\n",
        "driver.quit()"
      ],
      "metadata": {
        "colab": {
          "base_uri": "https://localhost:8080/"
        },
        "id": "w5T8WhMJsR_a",
        "outputId": "60907bc2-d14e-4831-d736-086e296a509b"
      },
      "execution_count": null,
      "outputs": [
        {
          "output_type": "stream",
          "name": "stdout",
          "text": [
            "No of imgs:100\n",
            "error clicking\n",
            "error clicking\n",
            "error clicking\n",
            "error clicking\n",
            "error clicking\n",
            "error clicking\n",
            "error clicking\n",
            "error clicking\n",
            "error clicking\n",
            "error clicking\n",
            "error clicking\n",
            "error clicking\n",
            "error clicking\n",
            "error clicking\n",
            "error clicking\n",
            "error clicking\n",
            "error clicking\n",
            "error clicking\n",
            "error clicking\n",
            "error clicking\n",
            "error clicking\n",
            "error clicking\n",
            "error clicking\n",
            "error clicking\n",
            "error clicking\n",
            "error clicking\n",
            "error clicking\n",
            "error clicking\n",
            "error clicking\n",
            "error clicking\n",
            "error clicking\n",
            "error clicking\n",
            "368\n"
          ]
        }
      ]
    }
  ]
}