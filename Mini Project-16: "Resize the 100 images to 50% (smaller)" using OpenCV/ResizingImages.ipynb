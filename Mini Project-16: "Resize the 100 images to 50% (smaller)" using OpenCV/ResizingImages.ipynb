{
  "nbformat": 4,
  "nbformat_minor": 0,
  "metadata": {
    "colab": {
      "provenance": [],
      "include_colab_link": true
    },
    "kernelspec": {
      "name": "python3",
      "display_name": "Python 3"
    },
    "language_info": {
      "name": "python"
    }
  },
  "cells": [
    {
      "cell_type": "markdown",
      "metadata": {
        "id": "view-in-github",
        "colab_type": "text"
      },
      "source": [
        "<a href=\"https://colab.research.google.com/github/Samarjeet09/MiniProjects/blob/main/Mini%20Project-16%3A%20%22Resize%20the%20100%20images%20to%2050%25%20(smaller)%22%20using%20OpenCV/ResizingImages.ipynb\" target=\"_parent\"><img src=\"https://colab.research.google.com/assets/colab-badge.svg\" alt=\"Open In Colab\"/></a>"
      ]
    },
    {
      "cell_type": "markdown",
      "source": [
        "# Downloding the images"
      ],
      "metadata": {
        "id": "6uE03hdCwhVO"
      }
    },
    {
      "cell_type": "code",
      "execution_count": 1,
      "metadata": {
        "id": "Q9wrkK2uSS_u"
      },
      "outputs": [],
      "source": [
        "!pip install simple_image_download &>/dev/null"
      ]
    },
    {
      "cell_type": "code",
      "source": [
        "from simple_image_download import simple_image_download as simp\n",
        "response = simp.simple_image_download"
      ],
      "metadata": {
        "id": "DOJnH2L4S0mO"
      },
      "execution_count": 2,
      "outputs": []
    },
    {
      "cell_type": "code",
      "source": [
        "response().download('car',100)"
      ],
      "metadata": {
        "id": "GPxMbh9RYLDt"
      },
      "execution_count": 3,
      "outputs": []
    },
    {
      "cell_type": "markdown",
      "source": [
        "# Resizing to 50%"
      ],
      "metadata": {
        "id": "desUqrErwmPK"
      }
    },
    {
      "cell_type": "code",
      "source": [
        "!pip install opencv-python &>/dev/null"
      ],
      "metadata": {
        "id": "Ap2weyyHv1Fe"
      },
      "execution_count": 4,
      "outputs": []
    },
    {
      "cell_type": "code",
      "source": [
        "import cv2\n",
        "import os"
      ],
      "metadata": {
        "id": "WRJNTu7KYZLk"
      },
      "execution_count": 6,
      "outputs": []
    },
    {
      "cell_type": "code",
      "source": [
        "image_dir='/content/simple_images/car'\n",
        "output_dir='resized_images'\n",
        "os.makedirs(output_dir,exist_ok=True)"
      ],
      "metadata": {
        "id": "7sQgmYBNYc6U"
      },
      "execution_count": 8,
      "outputs": []
    },
    {
      "cell_type": "code",
      "source": [
        "for image_file in os.listdir(image_dir):\n",
        "    image_path = os.path.join(image_dir, image_file)\n",
        "\n",
        "    try:\n",
        "        image = cv2.imread(image_path)\n",
        "\n",
        "        if image is not None:\n",
        "            height, width = image.shape[:2]\n",
        "\n",
        "            # Calculate the new dimensions for resizing (50% of the original size)\n",
        "            new_width = int(width * 0.5)\n",
        "            new_height = int(height * 0.5)\n",
        "\n",
        "            resized_image = cv2.resize(image, (new_width, new_height))\n",
        "\n",
        "            new_name = \"resized_\" + image_file\n",
        "\n",
        "            output_path = os.path.join(output_dir, new_name)\n",
        "            cv2.imwrite(output_path, resized_image)\n",
        "        else:\n",
        "            print(f\"Error reading image: {image_file}\")\n",
        "    except Exception as e:\n",
        "        print(f\"Error processing image: {image_file}\")\n",
        "        print(str(e))\n"
      ],
      "metadata": {
        "colab": {
          "base_uri": "https://localhost:8080/"
        },
        "id": "GC0A_jN2ZA6o",
        "outputId": "9974d6aa-ac02-4f6f-cd6d-9113e729589d"
      },
      "execution_count": 9,
      "outputs": [
        {
          "output_type": "stream",
          "name": "stdout",
          "text": [
            "Error reading image: car_25.jpg\n",
            "Error reading image: car_15.jpg\n",
            "Error reading image: car_11.jpg\n",
            "Error reading image: car_5.jpg\n",
            "Error reading image: car_29.jpg\n",
            "Error reading image: car_9.jpg\n",
            "Error reading image: car_13.jpg\n"
          ]
        }
      ]
    }
  ]
}