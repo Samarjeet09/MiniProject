{
  "nbformat": 4,
  "nbformat_minor": 0,
  "metadata": {
    "colab": {
      "provenance": [],
      "include_colab_link": true
    },
    "kernelspec": {
      "name": "python3",
      "display_name": "Python 3"
    },
    "language_info": {
      "name": "python"
    }
  },
  "cells": [
    {
      "cell_type": "markdown",
      "metadata": {
        "id": "view-in-github",
        "colab_type": "text"
      },
      "source": [
        "<a href=\"https://colab.research.google.com/github/Samarjeet09/MiniProjects/blob/main/Mini%20Project-07%3A%20Audio%20to%20Text/Audio_to_Text.ipynb\" target=\"_parent\"><img src=\"https://colab.research.google.com/assets/colab-badge.svg\" alt=\"Open In Colab\"/></a>"
      ]
    },
    {
      "cell_type": "markdown",
      "source": [
        "Importing Libraries"
      ],
      "metadata": {
        "id": "fyrP3pbR5RvT"
      }
    },
    {
      "cell_type": "code",
      "source": [
        "pip install SpeechRecognition pydub &>/dev/null"
      ],
      "metadata": {
        "id": "-P5_vV-8Iwon"
      },
      "execution_count": 1,
      "outputs": []
    },
    {
      "cell_type": "code",
      "execution_count": 2,
      "metadata": {
        "id": "_ByUN1zE2_gE"
      },
      "outputs": [],
      "source": [
        "import speech_recognition as sr\n",
        "import os\n",
        "import subprocess\n",
        "from google.colab import files\n",
        "from pydub import AudioSegment\n",
        "from pydub.silence import split_on_silence"
      ]
    },
    {
      "cell_type": "markdown",
      "source": [
        "Upload Audio File"
      ],
      "metadata": {
        "id": "Ij-3BYvJmqco"
      }
    },
    {
      "cell_type": "code",
      "source": [
        "files.upload()"
      ],
      "metadata": {
        "id": "WlD1Mwjvlg6p"
      },
      "execution_count": null,
      "outputs": []
    },
    {
      "cell_type": "markdown",
      "source": [
        "Convert Mp3 to Wav format"
      ],
      "metadata": {
        "id": "_xRgWlFnmuR3"
      }
    },
    {
      "cell_type": "code",
      "source": [
        "# convert mp3 to wav file\n",
        "subprocess.call(['ffmpeg', '-i', '/content/AI vs Machine Learning.mp3','wav_file.wav'])"
      ],
      "metadata": {
        "id": "nT5WPLM_k45I",
        "colab": {
          "base_uri": "https://localhost:8080/"
        },
        "outputId": "3a9e0d7a-84ad-4635-b4a5-2a777c37dd6c"
      },
      "execution_count": 10,
      "outputs": [
        {
          "output_type": "execute_result",
          "data": {
            "text/plain": [
              "0"
            ]
          },
          "metadata": {},
          "execution_count": 10
        }
      ]
    },
    {
      "cell_type": "markdown",
      "source": [
        "Main Function"
      ],
      "metadata": {
        "id": "HVftl1_Cm3Ev"
      }
    },
    {
      "cell_type": "code",
      "source": [
        "# initialize the recognizer\n",
        "r = sr.Recognizer()\n",
        "\n",
        "# a function that splits the audio file into chunks\n",
        "# and applies speech recognition\n",
        "\n",
        "def get_large_audio_transcription(path):\n",
        "    \"\"\"\n",
        "    Splitting the large audio file into chunks\n",
        "    and apply speech recognition on each of these chunks\n",
        "    \"\"\"\n",
        "    # open the audio file using pydub\n",
        "    sound = AudioSegment.from_wav(path)\n",
        "    # split audio sound where silence is 700 miliseconds or more and get chunks\n",
        "    chunks = split_on_silence(sound,\n",
        "        # experiment with this value for your target audio file\n",
        "        min_silence_len = 500,\n",
        "        # adjust this per requirement\n",
        "        silence_thresh = sound.dBFS-14,\n",
        "        # keep the silence for 1 second, adjustable as well\n",
        "        keep_silence=500,\n",
        "    )\n",
        "    folder_name = \"audio-chunks\"\n",
        "    # create a directory to store the audio chunks\n",
        "    if not os.path.isdir(folder_name):\n",
        "        os.mkdir(folder_name)\n",
        "    whole_text = \"\"\n",
        "    # process each chunk\n",
        "    for i, audio_chunk in enumerate(chunks, start=1):\n",
        "        # export audio chunk and save it in\n",
        "        # the `folder_name` directory.\n",
        "        chunk_filename = os.path.join(folder_name, f\"chunk{i}.wav\")\n",
        "        audio_chunk.export(chunk_filename, format=\"wav\")\n",
        "        # recognize the chunk\n",
        "        with sr.AudioFile(chunk_filename) as source:\n",
        "            audio_listened = r.record(source)\n",
        "            # try converting it to text\n",
        "            try:\n",
        "                text = r.recognize_google(audio_listened)\n",
        "            except sr.UnknownValueError as e:\n",
        "                print(\"Error:\", str(e))\n",
        "            else:\n",
        "                text = f\"{text.capitalize()}. \"\n",
        "                print(chunk_filename, \":\", text)\n",
        "                whole_text += text\n",
        "    # return the text for all chunks detected\n",
        "    return whole_text"
      ],
      "metadata": {
        "id": "GRusdZC34y4t"
      },
      "execution_count": 5,
      "outputs": []
    },
    {
      "cell_type": "code",
      "source": [
        "path = \"/content/wav_file.wav\"\n",
        "print(\"\\nFull text:\", get_large_audio_transcription(path))"
      ],
      "metadata": {
        "id": "ZVlNFunj8Guh",
        "colab": {
          "base_uri": "https://localhost:8080/"
        },
        "outputId": "5f1fd8bc-f4fb-4f52-f807-9f3a9c9f10c6"
      },
      "execution_count": 12,
      "outputs": [
        {
          "output_type": "stream",
          "name": "stdout",
          "text": [
            "audio-chunks/chunk1.wav : Artificial intelligence and machine learning. \n",
            "audio-chunks/chunk2.wav : What's the difference are they the same. \n",
            "audio-chunks/chunk3.wav : Well some people kind of frame the question this way. \n",
            "audio-chunks/chunk4.wav : Is ai versus. \n",
            "audio-chunks/chunk5.wav : Ml. \n",
            "audio-chunks/chunk6.wav : Is that the right way to think of this. \n",
            "Error: \n",
            "audio-chunks/chunk8.wav : Equals. \n",
            "audio-chunks/chunk9.wav : Ml. \n",
            "audio-chunks/chunk10.wav : Is it ai is somehow something different. \n",
            "audio-chunks/chunk11.wav : Then ml. \n",
            "audio-chunks/chunk12.wav : Your three equations. \n",
            "audio-chunks/chunk13.wav : I wonder which one is going to be right. \n",
            "audio-chunks/chunk14.wav : Let's talk about this. \n",
            "audio-chunks/chunk15.wav : First of all i think it's important to come with definitions because a lot of people have different ideas of what this is. \n",
            "audio-chunks/chunk16.wav : So i'm going to the store. \n",
            "audio-chunks/chunk17.wav : The simple definition that ai is basically exceeding or matching. \n",
            "audio-chunks/chunk18.wav : The capabilities of a human. \n",
            "audio-chunks/chunk19.wav : We're trying to match the intelligence whatever that means and capabilities. \n",
            "audio-chunks/chunk20.wav : Human subjects. \n",
            "audio-chunks/chunk21.wav : That involve one of them is the ability to discover. \n",
            "audio-chunks/chunk22.wav : To find out new information. \n",
            "audio-chunks/chunk23.wav : Another is the ability to infer. \n",
            "audio-chunks/chunk24.wav : Eridian information from other sources. \n",
            "audio-chunks/chunk25.wav : That maybe has not been explicitly stated. \n",
            "audio-chunks/chunk26.wav : And then also the ability to reason. \n",
            "audio-chunks/chunk27.wav : Ability to figure things out i put this in this together and i come up with something else. \n",
            "audio-chunks/chunk28.wav : I'm going to suggest you this is what a highest and that's the definition will use to this discussion. \n",
            "audio-chunks/chunk29.wav : What kinds of things then would be involved if we were talking about doing machine learning. \n",
            "audio-chunks/chunk30.wav : Well machine learning. \n",
            "audio-chunks/chunk31.wav : I'm going to put that over here. \n",
            "Error: \n",
            "audio-chunks/chunk33.wav : Basically. \n",
            "audio-chunks/chunk34.wav : A capability. \n",
            "audio-chunks/chunk35.wav : Start with the venn diagram machine learning involves prediction for decisions based on data. \n",
            "audio-chunks/chunk36.wav : Think about this as. \n",
            "audio-chunks/chunk37.wav : A very sophisticated form of statistical analysis. \n",
            "audio-chunks/chunk38.wav : It's looking for predictions based upon information that we have. \n",
            "audio-chunks/chunk39.wav : The more we feed into the system. \n",
            "audio-chunks/chunk40.wav : Morris able to give us accurate predictions and decision. \n",
            "audio-chunks/chunk41.wav : Based upon that data. \n",
            "audio-chunks/chunk42.wav : It's something that learns that's the l part. \n",
            "audio-chunks/chunk43.wav : Rather than having to be program. \n",
            "audio-chunks/chunk44.wav : When we program a system i have to come up with all the code and if i wanted to do something different i have to go change the code and then get a different outcome. \n",
            "audio-chunks/chunk45.wav : In the machine learning situation what i'm doing could be adjusting some models but it's different than programming. \n",
            "audio-chunks/chunk46.wav : And mostly it's learning the more data that i give to it. \n",
            "audio-chunks/chunk47.wav : It's based on large amounts of information. \n",
            "audio-chunks/chunk48.wav : There's a couple of different fields within different types. \n",
            "audio-chunks/chunk49.wav : There is supervised machine learning. \n",
            "audio-chunks/chunk50.wav : And as you might guess. \n",
            "audio-chunks/chunk51.wav : There's an unsupervised machine learning. \n",
            "audio-chunks/chunk52.wav : And i mean difference as the name implies is one has more human oversight. \n",
            "audio-chunks/chunk53.wav : Looking at the training of the data using labels that are superimposed on the data unsupervised is kind of able to run more. \n",
            "audio-chunks/chunk54.wav : Find things that were not explicitly stated. \n",
            "audio-chunks/chunk55.wav : Okay so that's machine learning a subfield of machine learning that we called deep learning. \n",
            "audio-chunks/chunk56.wav : What is deep learning. \n",
            "audio-chunks/chunk57.wav : Things like neural network. \n",
            "audio-chunks/chunk58.wav : Neural networks involve nodes and statistical relationships between those node to model the way that our minds work. \n",
            "audio-chunks/chunk59.wav : And it's called because we're doing multiple layers of those. \n",
            "audio-chunks/chunk60.wav : Neural networks. \n",
            "audio-chunks/chunk61.wav : The interesting thing about deep learning is very interesting insights. \n",
            "audio-chunks/chunk62.wav : We might not always be able to tell how the system came up with that. \n",
            "audio-chunks/chunk63.wav : It doesn't always show us work fully. \n",
            "audio-chunks/chunk64.wav : We can end up with some really interesting information. \n",
            "audio-chunks/chunk65.wav : Not known in some cases how reliable that is because we don't know exactly how it was derived. \n",
            "audio-chunks/chunk66.wav : But it's still a very important part of all of this. \n",
            "audio-chunks/chunk67.wav : Around that we're dealing with. \n",
            "audio-chunks/chunk68.wav : So those are two areas and you can see dl is a subset of ml. \n",
            "Error: \n",
            "audio-chunks/chunk70.wav : Artificial intelligence. \n",
            "audio-chunks/chunk71.wav : Where does that. \n",
            "audio-chunks/chunk72.wav : In the venn diagram. \n",
            "audio-chunks/chunk73.wav : I'm going to suggest to you. \n",
            "audio-chunks/chunk74.wav : It is. \n",
            "audio-chunks/chunk75.wav : A superset. \n",
            "audio-chunks/chunk76.wav : Mldl and a bunch of other things. \n",
            "audio-chunks/chunk77.wav : What could the other things be. \n",
            "audio-chunks/chunk78.wav : Well we could involve things like natural language processing. \n",
            "audio-chunks/chunk79.wav : It could be vision. \n",
            "audio-chunks/chunk80.wav : So we want a system that's able to see we might even want to sit on the table to hear and be able to distinguish what is hearing and what it seems because after all humans are able to do that. \n",
            "audio-chunks/chunk81.wav : And that's part of what our brains do is distinguish those kinds of things. \n",
            "audio-chunks/chunk82.wav : It could involve other things like the ability to do. \n",
            "audio-chunks/chunk83.wav : Text to speech. \n",
            "audio-chunks/chunk84.wav : If we take written words. \n",
            "audio-chunks/chunk85.wav : Concept and be able to speak goes out so the first one involved being able to see thing this is now being able to speak those things as well. \n",
            "audio-chunks/chunk86.wav : And then other things that humans are able to do naturally that we often take for granted. \n",
            "audio-chunks/chunk87.wav : Is motion. \n",
            "audio-chunks/chunk88.wav : This is the field of robotics which is a subset of ai. \n",
            "audio-chunks/chunk89.wav : Ability to do simple things like tire shoes open close the door lift something walk somewhere. \n",
            "audio-chunks/chunk90.wav : That's all something that would be part of human capabilities. \n",
            "audio-chunks/chunk91.wav : It involves certain torts torts of perception calculations that we do in our brains that we don't even think about it. \n",
            "audio-chunks/chunk92.wav : It's a venn diagram and we've got machine learning we've got deep learning and we've got a i. \n",
            "audio-chunks/chunk93.wav : So i'm going to suggest to you the right way to think about this. \n",
            "audio-chunks/chunk94.wav : Is not these equations. \n",
            "audio-chunks/chunk95.wav : Those are not the way to look at it in fact we should think about this as. \n",
            "audio-chunks/chunk96.wav : Machine learning. \n",
            "audio-chunks/chunk97.wav : A subset. \n",
            "Error: \n",
            "audio-chunks/chunk99.wav : Hey hi. \n",
            "audio-chunks/chunk100.wav : And that's how we need to think about this when i'm doing machine-learning infact i am doing. \n",
            "audio-chunks/chunk101.wav : When i'm doing each other things i'm doing ii. \n",
            "audio-chunks/chunk102.wav : But none of them are all of ai but there are very important part. \n",
            "audio-chunks/chunk103.wav : Thanks for watching please remember to like this video and subscribe to this channel so we can continue to bring you content matters to you. \n",
            "\n",
            "Full text: Artificial intelligence and machine learning. What's the difference are they the same. Well some people kind of frame the question this way. Is ai versus. Ml. Is that the right way to think of this. Equals. Ml. Is it ai is somehow something different. Then ml. Your three equations. I wonder which one is going to be right. Let's talk about this. First of all i think it's important to come with definitions because a lot of people have different ideas of what this is. So i'm going to the store. The simple definition that ai is basically exceeding or matching. The capabilities of a human. We're trying to match the intelligence whatever that means and capabilities. Human subjects. That involve one of them is the ability to discover. To find out new information. Another is the ability to infer. Eridian information from other sources. That maybe has not been explicitly stated. And then also the ability to reason. Ability to figure things out i put this in this together and i come up with something else. I'm going to suggest you this is what a highest and that's the definition will use to this discussion. What kinds of things then would be involved if we were talking about doing machine learning. Well machine learning. I'm going to put that over here. Basically. A capability. Start with the venn diagram machine learning involves prediction for decisions based on data. Think about this as. A very sophisticated form of statistical analysis. It's looking for predictions based upon information that we have. The more we feed into the system. Morris able to give us accurate predictions and decision. Based upon that data. It's something that learns that's the l part. Rather than having to be program. When we program a system i have to come up with all the code and if i wanted to do something different i have to go change the code and then get a different outcome. In the machine learning situation what i'm doing could be adjusting some models but it's different than programming. And mostly it's learning the more data that i give to it. It's based on large amounts of information. There's a couple of different fields within different types. There is supervised machine learning. And as you might guess. There's an unsupervised machine learning. And i mean difference as the name implies is one has more human oversight. Looking at the training of the data using labels that are superimposed on the data unsupervised is kind of able to run more. Find things that were not explicitly stated. Okay so that's machine learning a subfield of machine learning that we called deep learning. What is deep learning. Things like neural network. Neural networks involve nodes and statistical relationships between those node to model the way that our minds work. And it's called because we're doing multiple layers of those. Neural networks. The interesting thing about deep learning is very interesting insights. We might not always be able to tell how the system came up with that. It doesn't always show us work fully. We can end up with some really interesting information. Not known in some cases how reliable that is because we don't know exactly how it was derived. But it's still a very important part of all of this. Around that we're dealing with. So those are two areas and you can see dl is a subset of ml. Artificial intelligence. Where does that. In the venn diagram. I'm going to suggest to you. It is. A superset. Mldl and a bunch of other things. What could the other things be. Well we could involve things like natural language processing. It could be vision. So we want a system that's able to see we might even want to sit on the table to hear and be able to distinguish what is hearing and what it seems because after all humans are able to do that. And that's part of what our brains do is distinguish those kinds of things. It could involve other things like the ability to do. Text to speech. If we take written words. Concept and be able to speak goes out so the first one involved being able to see thing this is now being able to speak those things as well. And then other things that humans are able to do naturally that we often take for granted. Is motion. This is the field of robotics which is a subset of ai. Ability to do simple things like tire shoes open close the door lift something walk somewhere. That's all something that would be part of human capabilities. It involves certain torts torts of perception calculations that we do in our brains that we don't even think about it. It's a venn diagram and we've got machine learning we've got deep learning and we've got a i. So i'm going to suggest to you the right way to think about this. Is not these equations. Those are not the way to look at it in fact we should think about this as. Machine learning. A subset. Hey hi. And that's how we need to think about this when i'm doing machine-learning infact i am doing. When i'm doing each other things i'm doing ii. But none of them are all of ai but there are very important part. Thanks for watching please remember to like this video and subscribe to this channel so we can continue to bring you content matters to you. \n"
          ]
        }
      ]
    }
  ]
}